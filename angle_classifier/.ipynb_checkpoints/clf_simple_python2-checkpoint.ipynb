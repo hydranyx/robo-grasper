{
 "cells": [
  {
   "cell_type": "markdown",
   "metadata": {},
   "source": [
    "## clf trained by the simple data set"
   ]
  },
  {
   "cell_type": "code",
   "execution_count": 1,
   "metadata": {},
   "outputs": [],
   "source": [
    "import matplotlib.pyplot as plt\n",
    "from PIL import Image\n",
    "import json\n",
    "import skimage\n",
    "from skimage.feature import hog\n",
    "from sklearn import svm"
   ]
  },
  {
   "cell_type": "markdown",
   "metadata": {},
   "source": [
    "### preparing testing and training data\n",
    "#### also tryout with slighly different angles for testing in config2.json:\n",
    "json_string_testing = open(\"data/data_set_simple/testing/config2.json\", \"r\").read()"
   ]
  },
  {
   "cell_type": "code",
   "execution_count": 99,
   "metadata": {},
   "outputs": [],
   "source": [
    "def preprocess_input(image):\n",
    "    # Resize the image\n",
    "    image = image.resize((165, 165))\n",
    "    fd =  hog(image, orientations=8, pixels_per_cell=(16, 16), cells_per_block=(1, 1))\n",
    "    return fd\n",
    "\n",
    "json_string_training = open(\"data/data_set_simple/training/config.json\", \"r\").read()\n",
    "data_training = json.loads(json_string_training)\n",
    "X = []\n",
    "Y = []\n",
    "for image_data in data_training:\n",
    "    # Create the image path\n",
    "    image_path = \"./data/data_set_simple/training/{}\".format(image_data['path'])\n",
    "    # Read in the image\n",
    "    image = Image.open(image_path).convert(\"L\")\n",
    "    # Append the processed image\n",
    "    X.append(preprocess_input(image))\n",
    "    # Append the angle\n",
    "    Y.append(image_data[\"angle\"])\n",
    "\n",
    "json_string_testing = open(\"data/data_set_simple/testing/config.json\", \"r\").read()\n",
    "data_testing = json.loads(json_string_testing)\n",
    "test_X = []\n",
    "test_Y = []\n",
    "for image_data in data_testing:\n",
    "    # Create the image path\n",
    "    image_path = \"./data/data_set_simple/testing/{}\".format(image_data['path'])\n",
    "    # Read in the image\n",
    "    image = Image.open(image_path).convert(\"L\")\n",
    "    # Append the processed image\n",
    "    test_X.append(preprocess_input(image))\n",
    "    # Append the angle\n",
    "    test_Y.append(image_data[\"angle\"])"
   ]
  },
  {
   "cell_type": "code",
   "execution_count": 100,
   "metadata": {},
   "outputs": [],
   "source": [
    "clf = svm.SVC(gamma=\"scale\", decision_function_shape='ovo')\n",
    "clf_fit = clf.fit(X, Y)"
   ]
  },
  {
   "cell_type": "markdown",
   "metadata": {},
   "source": [
    "### pickle example"
   ]
  },
  {
   "cell_type": "code",
   "execution_count": 101,
   "metadata": {},
   "outputs": [],
   "source": [
    "import pickle"
   ]
  },
  {
   "cell_type": "code",
   "execution_count": 102,
   "metadata": {},
   "outputs": [],
   "source": [
    "file_name = \"clf_file.pickle\"\n",
    "file_object = open(file_name,'wb')\n",
    "pickle.dump(clf_fit,file_object,protocol=2)\n",
    "file_object.close()"
   ]
  },
  {
   "cell_type": "markdown",
   "metadata": {},
   "source": [
    "```python\n",
    "a = ['test value','test value 2','test value 3']\n",
    "\n",
    "file_name = \"testfile.pickle\"\n",
    "# open the file for writing\n",
    "file_object = open(file_Name,'wb') \n",
    "\n",
    "# this writes the object a to the\n",
    "# file named 'testfile'\n",
    "pickle.dump(a,file_object)   \n",
    "\n",
    "# here we close the fileObject\n",
    "file_object.close()\n",
    "# we open the file for reading\n",
    "file_object = open(file_name,'rb')  \n",
    "# load the object from the file into var b\n",
    "b = pickle.load(file_object)  \n",
    "\n",
    "a==b\n",
    "True\n",
    "```"
   ]
  },
  {
   "cell_type": "code",
   "execution_count": 103,
   "metadata": {},
   "outputs": [],
   "source": [
    "image_path = \"./data/data_set_simple/testing/img4_1.png\"\n",
    "image = Image.open(image_path).convert(\"L\")\n",
    "img = preprocess_input(image)"
   ]
  },
  {
   "cell_type": "code",
   "execution_count": 104,
   "metadata": {},
   "outputs": [],
   "source": [
    "clf = pickle.load(open(\"/home/mega/Documents/AutoSysPE/pas/ros/catkin_ws/src/moveit_grasp/scripts/clf_file.pickle\", \"rb\"))"
   ]
  },
  {
   "cell_type": "code",
   "execution_count": 105,
   "metadata": {},
   "outputs": [],
   "source": [
    "classifications = list(\n",
    "    clf.predict([img])\n",
    ")"
   ]
  },
  {
   "cell_type": "code",
   "execution_count": 106,
   "metadata": {},
   "outputs": [
    {
     "data": {
      "text/plain": [
       "[90]"
      ]
     },
     "execution_count": 106,
     "metadata": {},
     "output_type": "execute_result"
    }
   ],
   "source": [
    "classifications"
   ]
  },
  {
   "cell_type": "markdown",
   "metadata": {},
   "source": [
    "### make test"
   ]
  },
  {
   "cell_type": "code",
   "execution_count": 107,
   "metadata": {},
   "outputs": [],
   "source": [
    "classifications = list(\n",
    "    clf.predict(test_X)\n",
    ")"
   ]
  },
  {
   "cell_type": "code",
   "execution_count": 108,
   "metadata": {},
   "outputs": [
    {
     "data": {
      "text/plain": [
       "[90,\n",
       " 135,\n",
       " 135,\n",
       " 0,\n",
       " 0,\n",
       " 45,\n",
       " 45,\n",
       " 90,\n",
       " 90,\n",
       " 0,\n",
       " 135,\n",
       " 135,\n",
       " 0,\n",
       " 0,\n",
       " 45,\n",
       " 45,\n",
       " 0,\n",
       " 90,\n",
       " 135,\n",
       " 135,\n",
       " 135,\n",
       " 0,\n",
       " 0,\n",
       " 45,\n",
       " 45,\n",
       " 0,\n",
       " 90,\n",
       " 90,\n",
       " 90,\n",
       " 135,\n",
       " 0,\n",
       " 0,\n",
       " 45,\n",
       " 90,\n",
       " 90,\n",
       " 90,\n",
       " 90,\n",
       " 135,\n",
       " 135,\n",
       " 135,\n",
       " 0,\n",
       " 45,\n",
       " 45,\n",
       " 90,\n",
       " 90]"
      ]
     },
     "execution_count": 108,
     "metadata": {},
     "output_type": "execute_result"
    }
   ],
   "source": [
    "classifications"
   ]
  },
  {
   "cell_type": "markdown",
   "metadata": {},
   "source": [
    "### model accuracy"
   ]
  },
  {
   "cell_type": "code",
   "execution_count": 109,
   "metadata": {},
   "outputs": [],
   "source": [
    "def get_model_accuracy(model, X, Y):\n",
    "    classifications = model.predict(X)\n",
    "    successful = 0\n",
    "    for (tX, tY) in list(\n",
    "        zip(Y, classifications)\n",
    "    ):\n",
    "        if tX == tY or tX + 15 == tY or tX - 15 == tY:\n",
    "            successful += 1\n",
    "    return successful/float(len(Y))"
   ]
  },
  {
   "cell_type": "code",
   "execution_count": 110,
   "metadata": {},
   "outputs": [
    {
     "data": {
      "text/plain": [
       "0.4444444444444444"
      ]
     },
     "execution_count": 110,
     "metadata": {},
     "output_type": "execute_result"
    }
   ],
   "source": [
    "get_model_accuracy(clf, test_X, test_Y)"
   ]
  },
  {
   "cell_type": "markdown",
   "metadata": {},
   "source": [
    "#### accuracy for color:\n",
    "85% accurate for testing angles that are exact(0,45,90,135).\n",
    "\n",
    "67% accuracy for testing angles(15,165,30,60,75,105,120,150) other than has been trained(0,45,90,135) for. "
   ]
  },
  {
   "cell_type": "markdown",
   "metadata": {},
   "source": [
    "for grayscale:\n",
    "90% accurate for testing exact angles\n",
    "79% accuracy for inexact angles\n",
    "\n",
    "From this we can see that grayscale takes away a lot of confusion that color brings."
   ]
  },
  {
   "cell_type": "code",
   "execution_count": null,
   "metadata": {},
   "outputs": [],
   "source": []
  }
 ],
 "metadata": {
  "kernelspec": {
   "display_name": "Python 2",
   "language": "python",
   "name": "python2"
  },
  "language_info": {
   "codemirror_mode": {
    "name": "ipython",
    "version": 2
   },
   "file_extension": ".py",
   "mimetype": "text/x-python",
   "name": "python",
   "nbconvert_exporter": "python",
   "pygments_lexer": "ipython2",
   "version": "2.7.12"
  }
 },
 "nbformat": 4,
 "nbformat_minor": 2
}
